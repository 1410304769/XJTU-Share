{
 "cells": [
  {
   "cell_type": "markdown",
   "metadata": {},
   "source": [
    "# 一维稳态导热问题"
   ]
  },
  {
   "cell_type": "markdown",
   "metadata": {},
   "source": [
    "$$\\frac{d^2T}{dx^2}+T^3=0$$\n",
    "\n",
    "$$x=0 时 T=0$$\n",
    "\n",
    "$$x=1 时 \\frac{dT}{dx}=1$$"
   ]
  },
  {
   "cell_type": "markdown",
   "metadata": {},
   "source": [
    "$$\\frac{\\frac{u_{i + 1} - u_i}{\\Delta x}-\\frac{u_i - u_{i - 1}}{\\Delta x}}{\\Delta x} + u_i^3 = 0$$\n",
    "\n",
    "$$\\frac{u_{i + 1} - 2 u_i + u_{i - 1}}{(\\Delta x)^2} + u_i^3 = 0$$\n",
    "\n",
    "$$u_i = \\frac{u_{i + 1} + u_{i - 1} + u_i^3 (\\Delta x)^2}{2}$$"
   ]
  },
  {
   "cell_type": "markdown",
   "metadata": {},
   "source": [
    "$$\\frac{u_N - u_{N - 1}}{\\Delta x} = 1$$\n",
    "\n",
    "$$u_N = u_{N - 1} + 1 \\times \\Delta x$$"
   ]
  },
  {
   "cell_type": "code",
   "execution_count": 2,
   "metadata": {},
   "outputs": [],
   "source": [
    "import numpy as np\n",
    "from matplotlib import pyplot as plt\n",
    "%matplotlib inline"
   ]
  },
  {
   "cell_type": "code",
   "execution_count": 34,
   "metadata": {},
   "outputs": [],
   "source": [
    "L = 1\n",
    "q = 1"
   ]
  },
  {
   "cell_type": "code",
   "execution_count": 56,
   "metadata": {},
   "outputs": [],
   "source": [
    "nx = 41\n",
    "nt = 10\n",
    "dx = L / (nx - 1)\n",
    "u = np.zeros(nx)\n",
    "ux = L * np.linspace(0, 1, nx)"
   ]
  },
  {
   "cell_type": "code",
   "execution_count": 57,
   "metadata": {},
   "outputs": [
    {
     "data": {
      "image/png": "[encoded data removed]",
      "text/plain": [
       "<Figure size 432x288 with 1 Axes>"
      ]
     },
     "metadata": {
      "needs_background": "light"
     },
     "output_type": "display_data"
    }
   ],
   "source": [
    "for n in range(nt):\n",
    "    un = u.copy()\n",
    "    i = 0\n",
    "    u[i] = 0\n",
    "    i = nx - 1\n",
    "    u[i] = un[i - 1] + q * dx\n",
    "    for j in range(1, nx - 1):\n",
    "        i = nx - 1 - j\n",
    "        u[i] = un[i + 1] + un[i - 1] - (un[i] ** 3) * (dx * dx)\n",
    "    plt.plot(ux, u)"
   ]
  },
  {
   "cell_type": "code",
   "execution_count": null,
   "metadata": {},
   "outputs": [],
   "source": []
  }
 ],
 "metadata": {
  "kernelspec": {
   "display_name": "Python 3",
   "language": "python",
   "name": "python3"
  },
  "language_info": {
   "codemirror_mode": {
    "name": "ipython",
    "version": 3
   },
   "file_extension": ".py",
   "mimetype": "text/x-python",
   "name": "python",
   "nbconvert_exporter": "python",
   "pygments_lexer": "ipython3",
   "version": "3.7.0"
  }
 },
 "nbformat": 4,
 "nbformat_minor": 2
}
